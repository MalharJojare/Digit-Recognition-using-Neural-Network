{
 "cells": [
  {
   "cell_type": "code",
   "execution_count": null,
   "id": "f3850b1c-ce8b-4be9-a4b4-ff88b5cb7718",
   "metadata": {},
   "outputs": [],
   "source": [
    "# Plot ad hoc mnist instances\n",
    "from tensorflow.keras.datasets import mnist\n",
    "import matplotlib.pyplot as plt\n",
    "from tensorflow.keras.datasets import mnist\n",
    "from tensorflow.keras.models import Sequential\n",
    "from tensorflow.keras.layers import Dense\n",
    "from tensorflow.keras.layers import Dropout\n",
    "from tensorflow.keras.utils import to_categorical\n",
    "from tensorflow.keras.layers import Flatten\n",
    "from tensorflow.keras.layers import Conv2D\n",
    "from tensorflow.keras.layers import MaxPooling2D"
   ]
  },
  {
   "cell_type": "markdown",
   "id": "b3f9d58d-8001-49df-a773-d930054c9e47",
   "metadata": {},
   "source": [
    "### Loading the MNIST Dataset in Keras\n"
   ]
  },
  {
   "cell_type": "code",
   "execution_count": 1,
   "id": "399a5f9b-7b83-4b71-8a33-536c91a858dd",
   "metadata": {},
   "outputs": [
    {
     "name": "stderr",
     "output_type": "stream",
     "text": [
      "2024-07-09 16:58:08.694331: I external/local_tsl/tsl/cuda/cudart_stub.cc:32] Could not find cuda drivers on your machine, GPU will not be used.\n",
      "2024-07-09 16:58:12.808395: I external/local_tsl/tsl/cuda/cudart_stub.cc:32] Could not find cuda drivers on your machine, GPU will not be used.\n",
      "2024-07-09 16:58:21.988377: I tensorflow/core/platform/cpu_feature_guard.cc:210] This TensorFlow binary is optimized to use available CPU instructions in performance-critical operations.\n",
      "To enable the following instructions: AVX2 AVX512F FMA, in other operations, rebuild TensorFlow with the appropriate compiler flags.\n",
      "2024-07-09 16:58:34.151441: W tensorflow/compiler/tf2tensorrt/utils/py_utils.cc:38] TF-TRT Warning: Could not find TensorRT\n"
     ]
    },
    {
     "name": "stdout",
     "output_type": "stream",
     "text": [
      "Downloading data from https://storage.googleapis.com/tensorflow/tf-keras-datasets/mnist.npz\n",
      "\u001b[1m11490434/11490434\u001b[0m \u001b[32m━━━━━━━━━━━━━━━━━━━━\u001b[0m\u001b[37m\u001b[0m \u001b[1m0s\u001b[0m 0us/step\n"
     ]
    },
    {
     "data": {
      "image/png": "[encoded data removed]",
      "text/plain": [
       "<Figure size 640x480 with 4 Axes>"
      ]
     },
     "metadata": {},
     "output_type": "display_data"
    }
   ],
   "source": [
    "# load (downloaded if needed) the MNIST dataset\n",
    "(X_train, y_train), (X_test, y_test) = mnist.load_data()\n",
    "# plot 4 images as gray scale\n",
    "plt.subplot(221)\n",
    "plt.imshow(X_train[0], cmap=plt.get_cmap('gray'))\n",
    "plt.subplot(222)\n",
    "plt.imshow(X_train[1], cmap=plt.get_cmap('gray'))\n",
    "plt.subplot(223)\n",
    "plt.imshow(X_train[2], cmap=plt.get_cmap('gray'))\n",
    "plt.subplot(224)\n",
    "plt.imshow(X_train[3], cmap=plt.get_cmap('gray'))\n",
    "# show the plot\n",
    "plt.show()"
   ]
  },
  {
   "cell_type": "markdown",
   "id": "5c95e619-df30-4a07-8c87-746d6da245db",
   "metadata": {},
   "source": [
    "### Baseline Model with Multi-Layer Perceptrons\r\n"
   ]
  },
  {
   "cell_type": "code",
   "execution_count": 3,
   "id": "c8c79334-237c-47ba-afa9-3dd77e28a646",
   "metadata": {},
   "outputs": [],
   "source": [
    "# load data\n",
    "(X_train, y_train), (X_test, y_test) = mnist.load_data()"
   ]
  },
  {
   "cell_type": "code",
   "execution_count": 4,
   "id": "59fdd984-79e7-4958-9a7d-4849a90f9335",
   "metadata": {},
   "outputs": [],
   "source": [
    "# flatten 28*28 images to a 784 vector for each image\n",
    "num_pixels = X_train.shape[1] * X_train.shape[2]\n",
    "X_train = X_train.reshape((X_train.shape[0], num_pixels)).astype('float32')\n",
    "X_test = X_test.reshape((X_test.shape[0], num_pixels)).astype('float32')"
   ]
  },
  {
   "cell_type": "code",
   "execution_count": 5,
   "id": "042c3700-29e9-4924-a8dc-dc9cb8f8f06b",
   "metadata": {},
   "outputs": [],
   "source": [
    "# normalize inputs from 0-255 to 0-1\n",
    "X_train = X_train / 255\n",
    "X_test = X_test / 255"
   ]
  },
  {
   "cell_type": "code",
   "execution_count": 6,
   "id": "7839450d-71b9-4ba4-bd62-3f9567f56888",
   "metadata": {},
   "outputs": [],
   "source": [
    "# one hot encode outputs\n",
    "y_train = to_categorical(y_train)\n",
    "y_test = to_categorical(y_test)\n",
    "num_classes = y_test.shape[1]"
   ]
  },
  {
   "cell_type": "code",
   "execution_count": 7,
   "id": "8adbc969-88ff-4377-8c72-47d6e448e572",
   "metadata": {},
   "outputs": [],
   "source": [
    "# define baseline model\n",
    "def baseline_model():\n",
    " # create model\n",
    " model = Sequential()\n",
    " model.add(Dense(num_pixels, input_shape=(num_pixels,), kernel_initializer='normal', activation='relu'))\n",
    " model.add(Dense(num_classes, kernel_initializer='normal', activation='softmax'))\n",
    " # Compile model\n",
    " model.compile(loss='categorical_crossentropy', optimizer='adam', metrics=['accuracy'])\n",
    " return model"
   ]
  },
  {
   "cell_type": "code",
   "execution_count": 8,
   "id": "765c094b-8f43-4621-96a0-83c6dd03b5e8",
   "metadata": {},
   "outputs": [
    {
     "name": "stderr",
     "output_type": "stream",
     "text": [
      "/home/campus21/msjojare/.conda/envs/cs4821/lib/python3.10/site-packages/keras/src/layers/core/dense.py:86: UserWarning: Do not pass an `input_shape`/`input_dim` argument to a layer. When using Sequential models, prefer using an `Input(shape)` object as the first layer in the model instead.\n",
      "  super().__init__(activity_regularizer=activity_regularizer, **kwargs)\n"
     ]
    },
    {
     "name": "stdout",
     "output_type": "stream",
     "text": [
      "Epoch 1/10\n",
      "300/300 - 3s - 11ms/step - accuracy: 0.9214 - loss: 0.2776 - val_accuracy: 0.9581 - val_loss: 0.1421\n",
      "Epoch 2/10\n",
      "300/300 - 1s - 4ms/step - accuracy: 0.9678 - loss: 0.1114 - val_accuracy: 0.9712 - val_loss: 0.0942\n",
      "Epoch 3/10\n",
      "300/300 - 1s - 4ms/step - accuracy: 0.9790 - loss: 0.0715 - val_accuracy: 0.9755 - val_loss: 0.0795\n",
      "Epoch 4/10\n",
      "300/300 - 1s - 4ms/step - accuracy: 0.9862 - loss: 0.0497 - val_accuracy: 0.9753 - val_loss: 0.0774\n",
      "Epoch 5/10\n",
      "300/300 - 1s - 4ms/step - accuracy: 0.9895 - loss: 0.0364 - val_accuracy: 0.9798 - val_loss: 0.0639\n",
      "Epoch 6/10\n",
      "300/300 - 1s - 4ms/step - accuracy: 0.9928 - loss: 0.0268 - val_accuracy: 0.9802 - val_loss: 0.0633\n",
      "Epoch 7/10\n",
      "300/300 - 1s - 4ms/step - accuracy: 0.9952 - loss: 0.0192 - val_accuracy: 0.9807 - val_loss: 0.0643\n",
      "Epoch 8/10\n",
      "300/300 - 1s - 4ms/step - accuracy: 0.9970 - loss: 0.0139 - val_accuracy: 0.9804 - val_loss: 0.0625\n",
      "Epoch 9/10\n",
      "300/300 - 1s - 4ms/step - accuracy: 0.9978 - loss: 0.0110 - val_accuracy: 0.9798 - val_loss: 0.0664\n",
      "Epoch 10/10\n",
      "300/300 - 1s - 4ms/step - accuracy: 0.9984 - loss: 0.0083 - val_accuracy: 0.9809 - val_loss: 0.0640\n",
      "Baseline Error: 1.91%\n"
     ]
    }
   ],
   "source": [
    "# build the model\n",
    "model = baseline_model()\n",
    "# Fit the model\n",
    "model.fit(X_train, y_train, validation_data=(X_test, y_test), epochs=10, batch_size=200, verbose=2)\n",
    "# Final evaluation of the model\n",
    "scores = model.evaluate(X_test, y_test, verbose=0)\n",
    "print(\"Baseline Error: %.2f%%\" % (100-scores[1]*100))"
   ]
  },
  {
   "cell_type": "markdown",
   "id": "69189c22-9919-462f-bf53-56d1d8dd7069",
   "metadata": {},
   "source": [
    "### Simple Convolutional Neural Network for MNIST\r\n"
   ]
  },
  {
   "cell_type": "code",
   "execution_count": 11,
   "id": "d1600dfb-c4f9-4207-948b-eab33581de16",
   "metadata": {},
   "outputs": [],
   "source": [
    "# load data\n",
    "(X_train, y_train), (X_test, y_test) = mnist.load_data()\n",
    "# reshape to be [samples][width][height][channels]\n",
    "X_train = X_train.reshape(X_train.shape[0], 28, 28, 1).astype('float32')\n",
    "X_test = X_test.reshape(X_test.shape[0], 28, 28, 1).astype('float32')"
   ]
  },
  {
   "cell_type": "code",
   "execution_count": 12,
   "id": "449d41d6-00df-4673-833d-27d32977c76c",
   "metadata": {},
   "outputs": [],
   "source": [
    "# normalize inputs from 0-255 to 0-1\n",
    "X_train = X_train / 255\n",
    "X_test = X_test / 255\n",
    "# one hot encode outputs\n",
    "y_train = to_categorical(y_train)\n",
    "y_test = to_categorical(y_test)\n",
    "num_classes = y_test.shape[1]"
   ]
  },
  {
   "cell_type": "code",
   "execution_count": 13,
   "id": "5d34360b-86b7-49a4-9183-b18053185d2c",
   "metadata": {},
   "outputs": [],
   "source": [
    "def baseline_model():\n",
    " # create model\n",
    " model = Sequential()\n",
    " model.add(Conv2D(32, (5, 5), input_shape=(28, 28, 1), activation='relu'))\n",
    " model.add(MaxPooling2D(pool_size=(2, 2)))\n",
    " model.add(Dropout(0.2))\n",
    " model.add(Flatten())\n",
    " model.add(Dense(128, activation='relu'))\n",
    " model.add(Dense(num_classes, activation='softmax'))\n",
    " # Compile model\n",
    " model.compile(loss='categorical_crossentropy', optimizer='adam', metrics=['accuracy'])\n",
    " return model"
   ]
  },
  {
   "cell_type": "code",
   "execution_count": 14,
   "id": "f90b44d1-f5bb-445a-8db8-3c5e24e8bdf8",
   "metadata": {},
   "outputs": [
    {
     "name": "stderr",
     "output_type": "stream",
     "text": [
      "/home/campus21/msjojare/.conda/envs/cs4821/lib/python3.10/site-packages/keras/src/layers/convolutional/base_conv.py:99: UserWarning: Do not pass an `input_shape`/`input_dim` argument to a layer. When using Sequential models, prefer using an `Input(shape)` object as the first layer in the model instead.\n",
      "  super().__init__(\n"
     ]
    },
    {
     "name": "stdout",
     "output_type": "stream",
     "text": [
      "Epoch 1/10\n",
      "300/300 - 5s - 15ms/step - accuracy: 0.9215 - loss: 0.2707 - val_accuracy: 0.9722 - val_loss: 0.0905\n",
      "Epoch 2/10\n",
      "300/300 - 3s - 11ms/step - accuracy: 0.9759 - loss: 0.0817 - val_accuracy: 0.9826 - val_loss: 0.0531\n",
      "Epoch 3/10\n",
      "300/300 - 3s - 10ms/step - accuracy: 0.9830 - loss: 0.0556 - val_accuracy: 0.9836 - val_loss: 0.0469\n",
      "Epoch 4/10\n",
      "300/300 - 3s - 10ms/step - accuracy: 0.9869 - loss: 0.0437 - val_accuracy: 0.9883 - val_loss: 0.0355\n",
      "Epoch 5/10\n",
      "300/300 - 3s - 10ms/step - accuracy: 0.9887 - loss: 0.0360 - val_accuracy: 0.9891 - val_loss: 0.0344\n",
      "Epoch 6/10\n",
      "300/300 - 3s - 10ms/step - accuracy: 0.9904 - loss: 0.0297 - val_accuracy: 0.9861 - val_loss: 0.0412\n",
      "Epoch 7/10\n",
      "300/300 - 3s - 10ms/step - accuracy: 0.9920 - loss: 0.0257 - val_accuracy: 0.9880 - val_loss: 0.0378\n",
      "Epoch 8/10\n",
      "300/300 - 3s - 11ms/step - accuracy: 0.9933 - loss: 0.0219 - val_accuracy: 0.9892 - val_loss: 0.0334\n",
      "Epoch 9/10\n",
      "300/300 - 3s - 11ms/step - accuracy: 0.9941 - loss: 0.0183 - val_accuracy: 0.9883 - val_loss: 0.0382\n",
      "Epoch 10/10\n",
      "300/300 - 3s - 11ms/step - accuracy: 0.9950 - loss: 0.0154 - val_accuracy: 0.9896 - val_loss: 0.0322\n",
      "CNN Error: 1.04%\n"
     ]
    }
   ],
   "source": [
    "# build the model\n",
    "model = baseline_model()\n",
    "# Fit the model\n",
    "model.fit(X_train, y_train, validation_data=(X_test, y_test), epochs=10, batch_size=200, verbose=2)\n",
    "# Final evaluation of the model\n",
    "scores = model.evaluate(X_test, y_test, verbose=0)\n",
    "print(\"CNN Error: %.2f%%\" % (100-scores[1]*100))"
   ]
  },
  {
   "cell_type": "markdown",
   "id": "6f6c2942-e667-4d1c-aab6-b2f835b601ab",
   "metadata": {},
   "source": [
    "### Larger Convolutional Neural Network for MNIST\r\n"
   ]
  },
  {
   "cell_type": "code",
   "execution_count": 15,
   "id": "d503d8b0-0948-4b6c-a838-ec7c0fcd4aac",
   "metadata": {},
   "outputs": [],
   "source": [
    "# Larger CNN for the MNIST Dataset\n",
    "from tensorflow.keras.datasets import mnist\n",
    "from tensorflow.keras.models import Sequential\n",
    "from tensorflow.keras.layers import Dense\n",
    "from tensorflow.keras.layers import Dropout\n",
    "from tensorflow.keras.layers import Flatten\n",
    "from tensorflow.keras.layers import Conv2D\n",
    "from tensorflow.keras.layers import MaxPooling2D\n",
    "from tensorflow.keras.utils import to_categorical"
   ]
  },
  {
   "cell_type": "code",
   "execution_count": 16,
   "id": "94296dba-e43f-4cfd-9c4e-62a3e5068460",
   "metadata": {},
   "outputs": [],
   "source": [
    "# load data\n",
    "(X_train, y_train), (X_test, y_test) = mnist.load_data()\n",
    "# reshape to be [samples][width][height][channels]\n",
    "X_train = X_train.reshape((X_train.shape[0], 28, 28, 1)).astype('float32')\n",
    "X_test = X_test.reshape((X_test.shape[0], 28, 28, 1)).astype('float32')\n",
    "# normalize inputs from 0-255 to 0-1\n",
    "X_train = X_train / 255\n",
    "X_test = X_test / 255\n",
    "# one hot encode outputs\n",
    "y_train = to_categorical(y_train)\n",
    "y_test = to_categorical(y_test)\n",
    "num_classes = y_test.shape[1]"
   ]
  },
  {
   "cell_type": "code",
   "execution_count": 17,
   "id": "b30fc5a9-4c34-47eb-b588-bb1b050c7068",
   "metadata": {},
   "outputs": [],
   "source": [
    "# define the larger model\n",
    "def larger_model():\n",
    " # create model\n",
    " model = Sequential()\n",
    " model.add(Conv2D(30, (5, 5), input_shape=(28, 28, 1), activation='relu'))\n",
    " model.add(MaxPooling2D(pool_size=(2, 2)))\n",
    " model.add(Conv2D(15, (3, 3), activation='relu'))\n",
    " model.add(MaxPooling2D(pool_size=(2, 2)))\n",
    " model.add(Dropout(0.2))\n",
    " model.add(Flatten())\n",
    " model.add(Dense(128, activation='relu'))\n",
    " model.add(Dense(50, activation='relu'))\n",
    " model.add(Dense(num_classes, activation='softmax'))\n",
    " # Compile model\n",
    " model.compile(loss='categorical_crossentropy', optimizer='adam', metrics=['accuracy'])\n",
    " return model"
   ]
  },
  {
   "cell_type": "code",
   "execution_count": 18,
   "id": "29b3c2aa-5dbe-4ed0-a751-d2738ea319df",
   "metadata": {},
   "outputs": [
    {
     "name": "stdout",
     "output_type": "stream",
     "text": [
      "Epoch 1/10\n",
      "\u001b[1m300/300\u001b[0m \u001b[32m━━━━━━━━━━━━━━━━━━━━\u001b[0m\u001b[37m\u001b[0m \u001b[1m6s\u001b[0m 15ms/step - accuracy: 0.7486 - loss: 0.8237 - val_accuracy: 0.9737 - val_loss: 0.0852\n",
      "Epoch 2/10\n",
      "\u001b[1m300/300\u001b[0m \u001b[32m━━━━━━━━━━━━━━━━━━━━\u001b[0m\u001b[37m\u001b[0m \u001b[1m4s\u001b[0m 14ms/step - accuracy: 0.9663 - loss: 0.1115 - val_accuracy: 0.9837 - val_loss: 0.0514\n",
      "Epoch 3/10\n",
      "\u001b[1m300/300\u001b[0m \u001b[32m━━━━━━━━━━━━━━━━━━━━\u001b[0m\u001b[37m\u001b[0m \u001b[1m4s\u001b[0m 14ms/step - accuracy: 0.9775 - loss: 0.0726 - val_accuracy: 0.9847 - val_loss: 0.0436\n",
      "Epoch 4/10\n",
      "\u001b[1m300/300\u001b[0m \u001b[32m━━━━━━━━━━━━━━━━━━━━\u001b[0m\u001b[37m\u001b[0m \u001b[1m4s\u001b[0m 14ms/step - accuracy: 0.9825 - loss: 0.0569 - val_accuracy: 0.9892 - val_loss: 0.0328\n",
      "Epoch 5/10\n",
      "\u001b[1m300/300\u001b[0m \u001b[32m━━━━━━━━━━━━━━━━━━━━\u001b[0m\u001b[37m\u001b[0m \u001b[1m4s\u001b[0m 14ms/step - accuracy: 0.9845 - loss: 0.0482 - val_accuracy: 0.9902 - val_loss: 0.0291\n",
      "Epoch 6/10\n",
      "\u001b[1m300/300\u001b[0m \u001b[32m━━━━━━━━━━━━━━━━━━━━\u001b[0m\u001b[37m\u001b[0m \u001b[1m4s\u001b[0m 14ms/step - accuracy: 0.9868 - loss: 0.0416 - val_accuracy: 0.9886 - val_loss: 0.0329\n",
      "Epoch 7/10\n",
      "\u001b[1m300/300\u001b[0m \u001b[32m━━━━━━━━━━━━━━━━━━━━\u001b[0m\u001b[37m\u001b[0m \u001b[1m4s\u001b[0m 14ms/step - accuracy: 0.9879 - loss: 0.0376 - val_accuracy: 0.9909 - val_loss: 0.0273\n",
      "Epoch 8/10\n",
      "\u001b[1m300/300\u001b[0m \u001b[32m━━━━━━━━━━━━━━━━━━━━\u001b[0m\u001b[37m\u001b[0m \u001b[1m4s\u001b[0m 14ms/step - accuracy: 0.9882 - loss: 0.0366 - val_accuracy: 0.9910 - val_loss: 0.0264\n",
      "Epoch 9/10\n",
      "\u001b[1m300/300\u001b[0m \u001b[32m━━━━━━━━━━━━━━━━━━━━\u001b[0m\u001b[37m\u001b[0m \u001b[1m4s\u001b[0m 14ms/step - accuracy: 0.9900 - loss: 0.0308 - val_accuracy: 0.9901 - val_loss: 0.0268\n",
      "Epoch 10/10\n",
      "\u001b[1m300/300\u001b[0m \u001b[32m━━━━━━━━━━━━━━━━━━━━\u001b[0m\u001b[37m\u001b[0m \u001b[1m4s\u001b[0m 14ms/step - accuracy: 0.9907 - loss: 0.0288 - val_accuracy: 0.9911 - val_loss: 0.0273\n",
      "Large CNN Error: 0.89%\n"
     ]
    }
   ],
   "source": [
    "# build the model\n",
    "model = larger_model()\n",
    "# Fit the model\n",
    "model.fit(X_train, y_train, validation_data=(X_test, y_test), epochs=10, batch_size=200)\n",
    "# Final evaluation of the model\n",
    "scores = model.evaluate(X_test, y_test, verbose=0)\n",
    "print(\"Large CNN Error: %.2f%%\" % (100-scores[1]*100))"
   ]
  }
 ],
 "metadata": {
  "kernelspec": {
   "display_name": "Python [conda env:.conda-cs4821] *",
   "language": "python",
   "name": "conda-env-.conda-cs4821-py"
  },
  "language_info": {
   "codemirror_mode": {
    "name": "ipython",
    "version": 3
   },
   "file_extension": ".py",
   "mimetype": "text/x-python",
   "name": "python",
   "nbconvert_exporter": "python",
   "pygments_lexer": "ipython3",
   "version": "3.10.13"
  }
 },
 "nbformat": 4,
 "nbformat_minor": 5
}
